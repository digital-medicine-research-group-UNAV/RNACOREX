{
 "cells": [
  {
   "cell_type": "code",
   "execution_count": null,
   "id": "c92aa0dc",
   "metadata": {},
   "outputs": [],
   "source": [
    "import numpy as np\n",
    "from scipy import stats\n",
    "\n",
    "test_acc_rnacorex = [0.6,0.9,0.35,0.75,0.8,0.5,0.65,0.55,0.65,0.7,0.5,0.4,0.55]\n",
    "train_acc_rnacorex = [0.98,0.92,0.82,0.90,0.96,0.90,0.96,0.98,0.96,0.96,0.94,0.96,0.92]\n",
    "test_acc_cgbayes = [0.65,0.55,0.55,0.55,0.5,0.6,0.45,0.4,0.4,0.5,0.5,0.6,0.5]\n",
    "train_acc_cgbayes = [0.94,0.88,0.90,0.96,0.96,0.94,0.96,0.90,0.92,0.84,0.96,0.98,0.94]\n",
    "test_auc_cgbayes = [0.61,0.54,0.50,0.49,0.56,0.60,0.40,0.35,0.37,0.54,0.66,0.51,0.49]\n",
    "train_auc_cgbayes = [1,0.93,0.97,1,1,1,1,0.95,0.96,1,0.96,1,0.98]\n",
    "test_auc_rnacorex = [0.70,0.91,0.55,0.81,0.89,0.70,0.71,0.68,0.65,0.77,0.55,0.47,0.61]\n",
    "train_auc_rnacorex = [0.99,0.99,0.95,0.96,0.99,0.97,0.98,1,0.99,0.99,0.99,0.99,0.97]\n",
    "\n",
    "# Calculamos las diferencias (para tests de normalidad)\n",
    "diff = np.array(test_acc_rnacorex) - np.array(test_acc_cgbayes)\n",
    "\n",
    "stat, p_normality = stats.shapiro(diff)\n",
    "print(f\"Test de normalidad (Shapiro): estadístico={stat:.4f}, p={p_normality:.4f}\")\n",
    "\n",
    "t_stat, p_ttest = stats.ttest_rel(test_auc_rnacorex, test_auc_cgbayes)\n",
    "print(f\"T-test pareado: estadístico={t_stat:.4f}, p={p_ttest:.4f}\")\n",
    "\n",
    "w_stat, p_wilcoxon = stats.wilcoxon(test_auc_rnacorex, test_auc_cgbayes)\n",
    "print(f\"Wilcoxon: estadístico={w_stat:.4f}, p={p_wilcoxon:.4f}\")"
   ]
  },
  {
   "cell_type": "code",
   "execution_count": null,
   "id": "c239a78b",
   "metadata": {},
   "outputs": [],
   "source": [
    "print(np.mean(test_acc_rnacorex))\n",
    "print(np.mean(test_acc_cgbayes))\n",
    "print(np.mean(test_auc_rnacorex))\n",
    "print(np.mean(test_auc_cgbayes))\n",
    "print(np.mean(train_acc_rnacorex))\n",
    "print(np.mean(train_acc_cgbayes))\n",
    "print(np.mean(train_auc_rnacorex))\n",
    "print(np.mean(train_auc_cgbayes))"
   ]
  }
 ],
 "metadata": {
  "language_info": {
   "name": "python"
  }
 },
 "nbformat": 4,
 "nbformat_minor": 5
}
