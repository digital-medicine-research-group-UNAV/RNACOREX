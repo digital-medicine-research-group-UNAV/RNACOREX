{
 "cells": [
  {
   "cell_type": "code",
   "execution_count": null,
   "id": "2e4a3e0e",
   "metadata": {},
   "outputs": [
    {
     "name": "stderr",
     "output_type": "stream",
     "text": [
      "C:\\Users\\aoviedomadr\\AppData\\Local\\Temp\\ipykernel_9416\\4243239025.py:9: DtypeWarning: Columns (5,14,15,19,21) have mixed types. Specify dtype option on import or set low_memory=False.\n",
      "  tarbase = pd.read_csv('TarBase_v9.tsv', sep = '\\t')\n"
     ]
    }
   ],
   "source": [
    "import pandas as pd\n",
    "\n",
    "diana = pd.read_csv('../../engines/DIANA_targets.txt', sep = '\\t')\n",
    "\n",
    "targetscan = pd.read_csv('../../engines/Targetscan_targets.txt', sep = '\\t')\n",
    "\n",
    "mtb = pd.read_csv('../../engines/MTB_targets_25.csv')\n",
    "\n",
    "tarbase = pd.read_csv('../../engines/TarBase_v9.tsv', sep = '\\t')"
   ]
  },
  {
   "cell_type": "code",
   "execution_count": 8,
   "id": "84d1d382",
   "metadata": {},
   "outputs": [],
   "source": [
    "tarbase = tarbase[tarbase['mirna_name'].str.contains('hsa')]\n",
    "tarbase = tarbase[['mirna_name', 'gene_id']]\n",
    "tarbase.columns = ['miRNA', 'Gene ID']\n",
    "tarbase = tarbase[tarbase['miRNA'].str.lower().str.startswith('hsa')]\n",
    "tarbase['miRNA'] = tarbase['miRNA'].str.lower()\n",
    "tarbase.drop_duplicates(inplace=True)"
   ]
  },
  {
   "cell_type": "code",
   "execution_count": 9,
   "id": "65d0b736",
   "metadata": {},
   "outputs": [],
   "source": [
    "tscan = targetscan[['Gene ID', 'miRNA']]\n",
    "diana = diana[['mirna', 'ensembl_gene_id']]\n",
    "mtb = mtb[['miRNA', 'Target Gene']]"
   ]
  },
  {
   "cell_type": "code",
   "execution_count": null,
   "id": "cae40526",
   "metadata": {},
   "outputs": [],
   "source": [
    "gtf = pd.read_csv(\n",
    "    '../../engines/gencode.v47.basic.annotation.gtf',\n",
    "    sep='\\t',\n",
    "    comment='#',\n",
    "    header=None,\n",
    "    names=[\n",
    "        'seqname', 'source', 'feature', 'start', 'end',\n",
    "        'score', 'strand', 'frame', 'attribute'\n",
    "    ]\n",
    ")\n",
    "\n",
    "gtf['gene_id'] = gtf['attribute'].str.extract(r'gene_id \"([^\"]+)\"')\n",
    "gtf['gene_name'] = gtf['attribute'].str.extract(r'gene_name \"([^\"]+)\"')\n",
    "gtf = gtf[['gene_id', 'gene_name']]"
   ]
  },
  {
   "cell_type": "code",
   "execution_count": null,
   "id": "61f4b6d5",
   "metadata": {},
   "outputs": [],
   "source": [
    "gene_map = gtf[['gene_name', 'gene_id']].drop_duplicates()\n",
    "mtb_with_ids = mtb.merge(gene_map, left_on='Target Gene', right_on='gene_name', how='left')"
   ]
  },
  {
   "cell_type": "code",
   "execution_count": 12,
   "id": "fc12d01b",
   "metadata": {},
   "outputs": [],
   "source": [
    "mtb_with_ids = mtb_with_ids[['miRNA', 'gene_id']]\n",
    "tscan = tscan[['miRNA', 'Gene ID']]"
   ]
  },
  {
   "cell_type": "code",
   "execution_count": 13,
   "id": "21aa2002",
   "metadata": {},
   "outputs": [],
   "source": [
    "mtb_with_ids.columns = ['miRNA', 'Gene ID']\n",
    "diana.columns = ['miRNA', 'Gene ID']\n",
    "tscan.columns = ['miRNA', 'Gene ID']"
   ]
  },
  {
   "cell_type": "code",
   "execution_count": 14,
   "id": "2087d26c",
   "metadata": {},
   "outputs": [],
   "source": [
    "mtb_with_ids = mtb_with_ids[mtb_with_ids['miRNA'].str.lower().str.startswith('hsa')]"
   ]
  },
  {
   "cell_type": "code",
   "execution_count": 15,
   "id": "d99b8334",
   "metadata": {},
   "outputs": [],
   "source": [
    "mtb_with_ids = mtb_with_ids[mtb_with_ids['miRNA'].str.lower().str.startswith('hsa')]\n",
    "diana = diana[diana['miRNA'].str.lower().str.startswith('hsa')]\n",
    "tscan = tscan[tscan['miRNA'].str.lower().str.startswith('hsa')]\n",
    "mtb_with_ids['miRNA'] = mtb_with_ids['miRNA'].str.lower()\n",
    "diana['miRNA'] = diana['miRNA'].str.lower()\n",
    "tscan['miRNA'] = tscan['miRNA'].str.lower()"
   ]
  },
  {
   "cell_type": "code",
   "execution_count": 16,
   "id": "9e98b258",
   "metadata": {},
   "outputs": [],
   "source": [
    "mtb_with_ids['Gene ID'] = mtb_with_ids['Gene ID'].str.split('.').str[0]\n",
    "tscan['Gene ID'] = tscan['Gene ID'].str.split('.').str[0]\n",
    "diana['Gene ID'] = diana['Gene ID'].str.split('.').str[0]"
   ]
  },
  {
   "cell_type": "code",
   "execution_count": 17,
   "id": "e312664b",
   "metadata": {},
   "outputs": [],
   "source": [
    "tscan.drop_duplicates(inplace=True)\n",
    "mtb_with_ids.drop_duplicates(inplace=True)\n",
    "diana.drop_duplicates(inplace = True)"
   ]
  },
  {
   "cell_type": "code",
   "execution_count": 18,
   "id": "cadbccd4",
   "metadata": {},
   "outputs": [],
   "source": [
    "tscan_set = set([tuple(row) for row in tscan.values])\n",
    "mtb_with_ids_set = set([tuple(row) for row in mtb_with_ids.values])\n",
    "diana_set = set([tuple(row) for row in diana.values])\n",
    "tarbase_set = set([tuple(row) for row in tarbase.values])"
   ]
  },
  {
   "cell_type": "code",
   "execution_count": 15,
   "id": "a80ce2aa",
   "metadata": {},
   "outputs": [
    {
     "ename": "KeyboardInterrupt",
     "evalue": "",
     "output_type": "error",
     "traceback": [
      "\u001b[1;31m---------------------------------------------------------------------------\u001b[0m",
      "\u001b[1;31mKeyboardInterrupt\u001b[0m                         Traceback (most recent call last)",
      "Cell \u001b[1;32mIn[15], line 11\u001b[0m\n\u001b[0;32m      8\u001b[0m     \u001b[38;5;28;01mreturn\u001b[39;00m \u001b[38;5;28mlen\u001b[39m(matches) \u001b[38;5;241m/\u001b[39m \u001b[38;5;28mlen\u001b[39m(df_main) \u001b[38;5;241m*\u001b[39m \u001b[38;5;241m100\u001b[39m, \u001b[38;5;28mlen\u001b[39m(matches)\n\u001b[0;32m     10\u001b[0m \u001b[38;5;66;03m# Comparaciones\u001b[39;00m\n\u001b[1;32m---> 11\u001b[0m p12, matches12 \u001b[38;5;241m=\u001b[39m \u001b[43mmatching_percentage\u001b[49m\u001b[43m(\u001b[49m\u001b[43mmtb_with_ids\u001b[49m\u001b[43m,\u001b[49m\u001b[43m \u001b[49m\u001b[43mtscan\u001b[49m\u001b[43m)\u001b[49m\n\u001b[0;32m     12\u001b[0m \u001b[38;5;28mprint\u001b[39m(\u001b[38;5;124mf\u001b[39m\u001b[38;5;124m\"\u001b[39m\u001b[38;5;124mmtb vs tscan: \u001b[39m\u001b[38;5;132;01m{\u001b[39;00mp12\u001b[38;5;132;01m:\u001b[39;00m\u001b[38;5;124m.4f\u001b[39m\u001b[38;5;132;01m}\u001b[39;00m\u001b[38;5;124m%\u001b[39m\u001b[38;5;124m\"\u001b[39m)\n\u001b[0;32m     13\u001b[0m \u001b[38;5;28mprint\u001b[39m(\u001b[38;5;124mf\u001b[39m\u001b[38;5;124m\"\u001b[39m\u001b[38;5;124mmtb vs tscan:\u001b[39m\u001b[38;5;124m\"\u001b[39m, matches12)\n",
      "Cell \u001b[1;32mIn[15], line 8\u001b[0m, in \u001b[0;36mmatching_percentage\u001b[1;34m(df_main, df_other)\u001b[0m\n\u001b[0;32m      6\u001b[0m \u001b[38;5;66;03m# Número de coincidencias\u001b[39;00m\n\u001b[0;32m      7\u001b[0m matches \u001b[38;5;241m=\u001b[39m main_set \u001b[38;5;241m&\u001b[39m other_set\n\u001b[1;32m----> 8\u001b[0m \u001b[38;5;28;01mreturn\u001b[39;00m \u001b[38;5;28;43mlen\u001b[39;49m\u001b[43m(\u001b[49m\u001b[43mmatches\u001b[49m\u001b[43m)\u001b[49m \u001b[38;5;241m/\u001b[39m \u001b[38;5;28mlen\u001b[39m(df_main) \u001b[38;5;241m*\u001b[39m \u001b[38;5;241m100\u001b[39m, \u001b[38;5;28mlen\u001b[39m(matches)\n",
      "\u001b[1;31mKeyboardInterrupt\u001b[0m: "
     ]
    }
   ],
   "source": [
    "def matching_percentage(df_main, df_other):\n",
    "    # Crear conjuntos de tuplas para comparación fila a fila\n",
    "    main_set = set([tuple(row) for row in df_main.values])\n",
    "    other_set = set([tuple(row) for row in df_other.values])\n",
    "    \n",
    "    # Número de coincidencias\n",
    "    matches = main_set & other_set\n",
    "    return len(matches) / len(df_main) * 100, len(matches)\n",
    "\n",
    "# Comparaciones\n",
    "p12, matches12 = matching_percentage(mtb_with_ids, tscan)\n",
    "print(f\"mtb vs tscan: {p12:.4f}%\")\n",
    "print(f\"mtb vs tscan:\", matches12)\n",
    "p13, matches13 = matching_percentage(mtb_with_ids, diana)\n",
    "print(f\"mtb vs diana: {p13:.4f}%\")\n",
    "print(f\"mtb vs diana:\", matches13)\n",
    "p21, matches21 = matching_percentage(diana, mtb_with_ids)\n",
    "print(f\"diana vs mtb: {p21:.4f}%\")\n",
    "print(f\"diana vs mtb:\", matches21)\n",
    "p23, matches23 = matching_percentage(diana, tscan)\n",
    "print(f\"diana vs tscan: {p23:.4f}%\")\n",
    "print(f\"diana vs tscan:\", matches23)\n",
    "p31, matches31 = matching_percentage(tscan, mtb_with_ids)\n",
    "print(f\"tscan vs mtb: {p31:.4f}%\")\n",
    "print(f\"tscan vs mtb:\", matches31)\n",
    "p32, matches32 = matching_percentage(tscan, diana)\n",
    "print(f\"tscan vs diana: {p32:.4f}%\")\n",
    "print(f\"tscan vs diana:\", matches32)\n",
    "p41, matches41 = matching_percentage(tarbase, mtb_with_ids)\n",
    "print(f\"tarbase vs mtb: {p41:.4f}%\")\n",
    "print(f\"tarbase vs mtb:\", matches41)\n",
    "p42, matches42 = matching_percentage(tarbase, tscan)\n",
    "print(f\"tarbase vs tscan: {p42:.4f}%\")\n",
    "print(f\"tarbase vs tscan:\", matches42)\n",
    "p43, matches43 = matching_percentage(tarbase, diana)\n",
    "print(f\"tarbase vs diana: {p43:.4f}%\")\n",
    "print(f\"tarbase vs diana:\", matches43)\n",
    "p14, matches14 = matching_percentage(mtb_with_ids, tarbase)\n",
    "print(f\"mtb vs tarbase: {p14:.4f}%\")\n",
    "print(f\"mtb vs tarbase:\", matches14)\n",
    "p24, matches24 = matching_percentage(tscan, tarbase)\n",
    "print(f\"tscan vs tarbase: {p24:.4f}%\")\n",
    "print(f\"tscan vs tarbase:\", matches24)\n",
    "p34, matches34 = matching_percentage(diana, tarbase)\n",
    "print(f\"diana vs tarbase: {p34:.4f}%\")\n",
    "print(f\"diana vs tarbase:\", matches34)"
   ]
  }
 ],
 "metadata": {
  "kernelspec": {
   "display_name": "conda01",
   "language": "python",
   "name": "python3"
  },
  "language_info": {
   "codemirror_mode": {
    "name": "ipython",
    "version": 3
   },
   "file_extension": ".py",
   "mimetype": "text/x-python",
   "name": "python",
   "nbconvert_exporter": "python",
   "pygments_lexer": "ipython3",
   "version": "3.10.0"
  }
 },
 "nbformat": 4,
 "nbformat_minor": 5
}
