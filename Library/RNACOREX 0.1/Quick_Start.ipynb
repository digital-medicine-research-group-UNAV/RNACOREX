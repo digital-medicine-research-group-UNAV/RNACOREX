{
 "cells": [
  {
   "cell_type": "code",
   "execution_count": null,
   "id": "923a5d5b",
   "metadata": {},
   "outputs": [],
   "source": [
    "# pip install rnacorex"
   ]
  },
  {
   "cell_type": "code",
   "execution_count": null,
   "id": "6c4554c2",
   "metadata": {},
   "outputs": [],
   "source": [
    "import rnacorex"
   ]
  },
  {
   "cell_type": "code",
   "execution_count": null,
   "id": "7f40d4c3",
   "metadata": {},
   "outputs": [],
   "source": [
    "# Download the required engines.\n",
    "\n",
    "rnacorex.download()"
   ]
  },
  {
   "cell_type": "code",
   "execution_count": null,
   "id": "2b240b2e",
   "metadata": {},
   "outputs": [],
   "source": [
    "# Check if the engines are installed correctly.\n",
    "\n",
    "rnacorex.check_engines()"
   ]
  },
  {
   "cell_type": "code",
   "execution_count": null,
   "id": "3636ef10",
   "metadata": {},
   "outputs": [],
   "source": [
    "# Example of model fitting with the TCGA BRCA dataset.\n",
    "\n",
    "import pandas as pd\n",
    "from sklearn.model_selection import train_test_split\n",
    "\n",
    "data = pd.read_csv(f'data_plos_brca.csv', sep = ',', index_col = 0)\n",
    "\n",
    "X = data.drop('classvalues', axis = 1)\n",
    "\n",
    "y = data['classvalues']\n",
    "\n",
    "X_train, X_test, y_train, y_test = train_test_split(X, y, test_size=0.3, random_state=1)\n",
    "\n",
    "mrnc = rnacorex.MRNC(n_con=50, precision = 20)\n",
    "\n",
    "mrnc.fit(X_train, y_train)\n"
   ]
  },
  {
   "cell_type": "code",
   "execution_count": null,
   "id": "201ccf66",
   "metadata": {},
   "outputs": [],
   "source": [
    "# Load the network.\n",
    "\n",
    "mrnc.get_network()\n",
    "mrnc.G_"
   ]
  },
  {
   "cell_type": "code",
   "execution_count": null,
   "id": "8518f0e3",
   "metadata": {},
   "outputs": [],
   "source": [
    "# For visualizing options pygraphviz is required. Install it with next command (conda-forge).\n",
    "\n",
    "# conda install -y -c conda-forge pygraphviz"
   ]
  },
  {
   "cell_type": "code",
   "execution_count": null,
   "id": "ccdb17a4",
   "metadata": {},
   "outputs": [],
   "source": [
    "# Visualize the network.\n",
    "\n",
    "mrnc.get_network(display=True)"
   ]
  },
  {
   "cell_type": "code",
   "execution_count": null,
   "id": "90a11946",
   "metadata": {},
   "outputs": [],
   "source": [
    "# Get the connections of the model.\n",
    "\n",
    "mrnc.connections_"
   ]
  },
  {
   "cell_type": "code",
   "execution_count": null,
   "id": "7e4ed174",
   "metadata": {},
   "outputs": [],
   "source": [
    "# Get the parameters of the model.\n",
    "\n",
    "mrnc.clgc_['beta']\n",
    "mrnc.clgc_['sigma']"
   ]
  },
  {
   "cell_type": "code",
   "execution_count": null,
   "id": "6d63aa83",
   "metadata": {},
   "outputs": [],
   "source": [
    "# Predict the test set.\n",
    "\n",
    "mrnc.predict(X_test)"
   ]
  },
  {
   "cell_type": "code",
   "execution_count": null,
   "id": "495b65ff",
   "metadata": {},
   "outputs": [],
   "source": [
    "# Example of model fitting with the TCGA BRCA dataset using fit_only.\n",
    "\n",
    "mrnc2 = rnacorex.MRNC(precision = 20)\n",
    "mrnc2.initialize_model(X_train, y_train)\n",
    "mrnc2.compute_functional()\n",
    "mrnc2.rank()\n",
    "mrnc2.fit_only()"
   ]
  }
 ],
 "metadata": {
  "kernelspec": {
   "display_name": "rnacorex_devo",
   "language": "python",
   "name": "python3"
  },
  "language_info": {
   "name": "python",
   "version": "3.9.23"
  }
 },
 "nbformat": 4,
 "nbformat_minor": 5
}
