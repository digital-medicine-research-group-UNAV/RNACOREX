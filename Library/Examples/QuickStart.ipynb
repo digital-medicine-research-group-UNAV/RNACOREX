{
 "cells": [
  {
   "cell_type": "code",
   "execution_count": null,
   "metadata": {},
   "outputs": [],
   "source": [
    "import miRNetClassifier\n",
    "import sys\n",
    "\n",
    "from sklearn.model_selection import train_test_split\n",
    "import pandas as pd\n",
    "\n",
    "sys.path.insert(0, \"../\") \n",
    "from miRNetClassifier import miRNetClassifier"
   ]
  },
  {
   "cell_type": "code",
   "execution_count": 2,
   "metadata": {},
   "outputs": [],
   "source": [
    "# Load the dataset.\n",
    "\n",
    "data_brca = pd.read_csv('SampleData/SampleDataBRCA.csv', sep = ',', index_col = 0)\n",
    "\n",
    "# Select expression data (X) and the class (y)\n",
    "\n",
    "X = data_brca.drop('classvalues', axis = 1)\n",
    "y = data_brca['classvalues']\n",
    "\n",
    "# Split the dataset in train and test.\n",
    "\n",
    "X_train, X_test, y_train, y_test = train_test_split(X, y, test_size=0.3, random_state=1)"
   ]
  },
  {
   "cell_type": "code",
   "execution_count": null,
   "metadata": {},
   "outputs": [],
   "source": [
    "# Initialize estimator with default parameters (precision = 10, n_con = 20)\n",
    "\n",
    "mrnc = miRNetClassifier.MRNC()\n",
    "\n",
    "mrnc.fit(X_train, y_train)\n",
    "\n",
    "mrnc.get_network()"
   ]
  },
  {
   "cell_type": "code",
   "execution_count": null,
   "metadata": {},
   "outputs": [],
   "source": [
    "# Show the structural information.\n",
    "\n",
    "print(mrnc.structural_information_)\n",
    "\n",
    "# Show the functional information.\n",
    "\n",
    "print(mrnc.functional_information_)\n",
    "\n",
    "# The included micros in the CLG model.\n",
    "\n",
    "print(mrnc.micros_)\n",
    "\n",
    "# The included genes in the CLG model.\n",
    "\n",
    "print(mrnc.genes_)\n",
    "\n",
    "# The ordered list of interactions with their scores.\n",
    "\n",
    "print(mrnc.connections_)\n",
    "\n",
    "# The parameters of the model.\n",
    "\n",
    "print(mrnc.clgc_)"
   ]
  },
  {
   "cell_type": "code",
   "execution_count": null,
   "metadata": {},
   "outputs": [],
   "source": [
    "# Fit the model\n",
    "\n",
    "mrnc.predict(X_test)\n",
    "\n",
    "# Obtain the parameters of the model\n",
    "\n",
    "mrnc.predict_proba(X_test)\n",
    "\n",
    "# Score\n",
    "\n",
    "mrnc.score(X_test, y_test)"
   ]
  },
  {
   "cell_type": "code",
   "execution_count": null,
   "metadata": {},
   "outputs": [],
   "source": [
    "# Initialize estimator with default parameters (precision = 10, n_con = 20)\n",
    "\n",
    "mrnc = miRNetClassifier.MRNC()\n",
    "\n",
    "# Initialize model and calculate structural information\n",
    "\n",
    "mrnc.initialize_model(X_train, y_train)\n",
    "\n",
    "# Calculate functional information. compute_functional() allows to use different X_train and y_train than the ones used for initializing the model.\n",
    "# This permits, for example, fitting models with different train and test sets without having to initialize the model again.\n",
    "# The used X_train and y_train sets should have the same variables (microRNA and mRNA) as the ones used in initialize_model().\n",
    "\n",
    "mrnc.compute_functional()\n",
    "\n",
    "# Fit the model\n",
    "\n",
    "mrnc.fit_only()\n",
    "\n",
    "# Get the network\n",
    "\n",
    "mrnc.get_network()"
   ]
  },
  {
   "cell_type": "code",
   "execution_count": null,
   "metadata": {},
   "outputs": [],
   "source": [
    "# Search for optimal structure with personalized train and test sets.\n",
    "\n",
    "mrnc.structure_search(X_train, y_train, X_test, y_test, 100)\n",
    "\n",
    "# Use only personalized test sets.\n",
    "\n",
    "mrnc.structure_search(X_test, y_test, 100)\n",
    "\n",
    "# Use default train sets and no test set.\n",
    "\n",
    "mrnc.structure_search(100)\n",
    "\n",
    "print(mrnc.structure_metrics_)"
   ]
  }
 ],
 "metadata": {
  "kernelspec": {
   "display_name": "conda01",
   "language": "python",
   "name": "python3"
  },
  "language_info": {
   "codemirror_mode": {
    "name": "ipython",
    "version": 3
   },
   "file_extension": ".py",
   "mimetype": "text/x-python",
   "name": "python",
   "nbconvert_exporter": "python",
   "pygments_lexer": "ipython3",
   "version": "3.12.4"
  }
 },
 "nbformat": 4,
 "nbformat_minor": 2
}
